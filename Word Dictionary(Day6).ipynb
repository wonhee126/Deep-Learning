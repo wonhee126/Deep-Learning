{
 "cells": [
  {
   "cell_type": "markdown",
   "id": "92ec66a9-3693-4fe6-9dca-eacff041fb29",
   "metadata": {
    "jp-MarkdownHeadingCollapsed": true
   },
   "source": [
    "# 단어 사전 만들기"
   ]
  },
  {
   "cell_type": "markdown",
   "id": "83c9a1fa-6744-40aa-a012-f44029280096",
   "metadata": {
    "jp-MarkdownHeadingCollapsed": true
   },
   "source": [
    "## 데이터 다운로드 및 분석"
   ]
  },
  {
   "cell_type": "code",
   "execution_count": 20,
   "id": "43e1f724-1da0-489c-9633-7a798f7dfc13",
   "metadata": {},
   "outputs": [],
   "source": [
    "import os\n",
    "\n",
    "import matplotlib.pyplot as plt\n",
    "import tensorflow as tf\n",
    "import numpy as np\n",
    "\n",
    "%matplotlib inline"
   ]
  },
  {
   "cell_type": "code",
   "execution_count": 21,
   "id": "49800c2a-e6b7-4008-a4ee-38e70bbb6642",
   "metadata": {},
   "outputs": [
    {
     "name": "stderr",
     "output_type": "stream",
     "text": [
      "  % Total    % Received % Xferd  Average Speed   Time    Time     Time  Current\n",
      "                                 Dload  Upload   Total   Spent    Left  Speed\n",
      "\n",
      "  0     0    0     0    0     0      0      0 --:--:-- --:--:-- --:--:--     0\n",
      "  0     0    0     0    0     0      0      0 --:--:-- --:--:-- --:--:--     0\n",
      "\n",
      " 52 8514k   52 4432k    0     0  9624k      0 --:--:-- --:--:-- --:--:-- 9624k\n",
      "100 8514k  100 8514k    0     0  10.3M      0 --:--:-- --:--:-- --:--:-- 11.6M\n"
     ]
    }
   ],
   "source": [
    "!curl -L -o korean-english-park.train.tar.gz https://github.com/jungyeul/korean-parallel-corpora/raw/master/korean-english-news-v1/korean-english-park.train.tar.gz"
   ]
  },
  {
   "cell_type": "code",
   "execution_count": 28,
   "id": "b72ef83c-86d7-4b55-9524-6fe3e472abe1",
   "metadata": {},
   "outputs": [
    {
     "name": "stdout",
     "output_type": "stream",
     "text": [
      "✅ 지정된 경로에 다운 완료: C:\\DeepLearning\\sp_tokenizer\\data\\korean-english-park.train.tar.gz\n"
     ]
    }
   ],
   "source": [
    "import urllib.request\n",
    "import os\n",
    "\n",
    "base_path = r\"C:\\DeepLearning\\sp_tokenizer\\data\"\n",
    "os.makedirs(base_path, exist_ok=True)\n",
    "\n",
    "save_path = os.path.join(base_path, \"korean-english-park.train.tar.gz\")\n",
    "\n",
    "url = \"https://github.com/jungyeul/korean-parallel-corpora/raw/master/korean-english-news-v1/korean-english-park.train.tar.gz\"\n",
    "\n",
    "urllib.request.urlretrieve(url, save_path)\n",
    "print(\"✅ 지정된 경로에 다운 완료:\", save_path)"
   ]
  },
  {
   "cell_type": "code",
   "execution_count": 30,
   "id": "941996a1-c2b2-4512-bc0d-0cc225ffbe51",
   "metadata": {},
   "outputs": [
    {
     "name": "stdout",
     "output_type": "stream",
     "text": [
      "✅ 압축 해제 완료\n"
     ]
    },
    {
     "name": "stderr",
     "output_type": "stream",
     "text": [
      "C:\\Users\\juwonhee\\AppData\\Local\\Temp\\ipykernel_13952\\259450332.py:7: DeprecationWarning: Python 3.14 will, by default, filter extracted tar archives and reject files or modify their metadata. Use the filter argument to control this behavior.\n",
      "  tar.extractall(path=extract_path)\n"
     ]
    }
   ],
   "source": [
    "import tarfile\n",
    "\n",
    "file_path = r\"C:\\DeepLearning\\sp_tokenizer\\data\\korean-english-park.train.tar.gz\"\n",
    "extract_path = r\"C:\\DeepLearning\\sp_tokenizer\\data\"\n",
    "\n",
    "with tarfile.open(file_path, \"r:gz\") as tar:\n",
    "    tar.extractall(path=extract_path)\n",
    "\n",
    "print(\"✅ 압축 해제 완료\")"
   ]
  },
  {
   "cell_type": "code",
   "execution_count": 31,
   "id": "b05eef27-9060-48f1-bfb9-db3fe088f6bb",
   "metadata": {},
   "outputs": [
    {
     "name": "stdout",
     "output_type": "stream",
     "text": [
      "Data Size: 94123\n",
      "Example:\n",
      ">> 개인용 컴퓨터 사용의 상당 부분은 \"이것보다 뛰어날 수 있느냐?\"\n",
      ">> 북한의 핵무기 계획을 포기하도록 하려는 압력이 거세지고 있는 가운데, 일본과 북한의 외교관들이 외교 관계를 정상화하려는 회담을 재개했다.\n",
      ">> \"경호 로보트가 침입자나 화재를 탐지하기 위해서 개인적으로, 그리고 전문적으로 사용되고 있습니다.\"\n",
      ">> 수자원부 당국은 논란이 되고 있고, 막대한 비용이 드는 이 사업에 대해 내년에 건설을 시작할 계획이다.\n",
      ">> 또한 근력 운동은 활발하게 걷는 것이나 최소한 20분 동안 뛰는 것과 같은 유산소 활동에서 얻는 운동 효과를 심장과 폐에 주지 않기 때문에, 연구학자들은 근력 운동이 심장에 큰 영향을 미치는지 여부에 대해 논쟁을 해왔다.\n"
     ]
    }
   ],
   "source": [
    "import os\n",
    "\n",
    "path_to_file = os.path.join(base_path, \"korean-english-park.train.ko\")\n",
    "\n",
    "# 파일 읽기\n",
    "with open(path_to_file, \"r\", encoding=\"utf-8\") as f:\n",
    "    raw = f.read().splitlines()\n",
    "\n",
    "# 간단히 확인\n",
    "print(\"Data Size:\", len(raw))\n",
    "print(\"Example:\")\n",
    "for sen in raw[0:100][::20]:\n",
    "    print(\">>\", sen)"
   ]
  },
  {
   "cell_type": "markdown",
   "id": "08f73836-f5a9-49b4-a9ee-b7c737b6b22d",
   "metadata": {},
   "source": [
    "각 문장이 어느 정도 길이를 가지는 지 확인  \n",
    "1. 지나치게 긴 데이터 삭제\n",
    "2. 지나치게 짧은 데이터 검증  \n",
    "  \n",
    "=> 데이터를 얼마나 사용할 지 타협점을 정의"
   ]
  },
  {
   "cell_type": "code",
   "execution_count": 32,
   "id": "8520b869-fe4a-48b2-8c2c-09ee185b0242",
   "metadata": {},
   "outputs": [
    {
     "name": "stdout",
     "output_type": "stream",
     "text": [
      "문장의 최단 길이: 1\n",
      "문장의 최장 길이: 377\n",
      "문장의 평균 길이: 60\n"
     ]
    },
    {
     "data": {
      "image/png": "[encoded data removed]",
      "text/plain": [
       "<Figure size 640x480 with 1 Axes>"
      ]
     },
     "metadata": {},
     "output_type": "display_data"
    }
   ],
   "source": [
    "min_len = 999\n",
    "max_len = 0\n",
    "sum_len = 0\n",
    "\n",
    "for sen in raw:\n",
    "    length = len(sen)\n",
    "    if min_len > length: min_len = length\n",
    "    if max_len < length: max_len = length\n",
    "    sum_len += length\n",
    "\n",
    "print(\"문장의 최단 길이:\", min_len)\n",
    "print(\"문장의 최장 길이:\", max_len)\n",
    "print(\"문장의 평균 길이:\", sum_len // len(raw))\n",
    "\n",
    "sentence_length = np.zeros((max_len), dtype=int)\n",
    "\n",
    "for sen in raw:\n",
    "    sentence_length[len(sen)-1] += 1\n",
    "\n",
    "plt.bar(range(max_len), sentence_length, width=1.0)\n",
    "plt.title(\"Sentence Length Distribution\")\n",
    "plt.show()"
   ]
  },
  {
   "cell_type": "markdown",
   "id": "549dd7e5-9931-4ba8-a500-d4c5eb26c276",
   "metadata": {},
   "source": [
    "길이가 1인 문장"
   ]
  },
  {
   "cell_type": "code",
   "execution_count": 33,
   "id": "f4284f35-c9cb-4834-87dc-835a8545e89e",
   "metadata": {},
   "outputs": [
    {
     "name": "stdout",
     "output_type": "stream",
     "text": [
      "’\n"
     ]
    }
   ],
   "source": [
    "def check_sentence_with_length(raw, length):\n",
    "    count = 0\n",
    "    \n",
    "    for sen in raw:\n",
    "        if len(sen) == length:\n",
    "            print(sen)\n",
    "            count += 1\n",
    "            if count > 100: return\n",
    "\n",
    "check_sentence_with_length(raw, 1)"
   ]
  },
  {
   "cell_type": "code",
   "execution_count": 38,
   "id": "85e0ad92-61a6-4279-a67c-b3ec8b6d35a0",
   "metadata": {
    "scrolled": true
   },
   "outputs": [
    {
     "name": "stdout",
     "output_type": "stream",
     "text": [
      "Outlier Index: 11\n",
      "Outlier Index: 19\n",
      "Outlier Index: 21\n"
     ]
    }
   ],
   "source": [
    "for idx, _sum in enumerate(sentence_length):\n",
    "    # 문장의 수가 1500을 초과하는 문장 길이를 추출\n",
    "    if _sum > 1500:\n",
    "        print(\"Outlier Index:\", idx+1)"
   ]
  },
  {
   "cell_type": "code",
   "execution_count": 39,
   "id": "9b3dd611-239c-46a6-b6ff-529de59771b1",
   "metadata": {},
   "outputs": [
    {
     "name": "stdout",
     "output_type": "stream",
     "text": [
      "throwaway 사용 후 버리는  / cell phone 이동 전화, 휴대폰  / be set to do 할 준비가 되어있다  / make one's debut 처음 소개되다  / convenience store 편의점   / shelve 선반, (상품) 진열대  / aisle 길다란 통로  / down the aisle from  이 있는 통로 아랫쪽에  / razor 면도기  / beef jerky 말린 쇠고기  / disposable camera 일회용 카메라  / seek 하려고 애쓰다  / emulate 에 지지 않으려고 애쓰다, 겨루다  / spur-of-the-moment 충동적인  / consumer 소비자  / purchase 구매, 구매품 번역 :\n"
     ]
    }
   ],
   "source": [
    "check_sentence_with_length(raw, idx+1)"
   ]
  },
  {
   "cell_type": "code",
   "execution_count": 40,
   "id": "eb4a810b-9259-4d68-80ad-8a17a1cfaae0",
   "metadata": {},
   "outputs": [
    {
     "name": "stdout",
     "output_type": "stream",
     "text": [
      "Data Size: 77591\n",
      "문장의 최단 길이: 1\n",
      "문장의 최장 길이: 377\n",
      "문장의 평균 길이: 64\n"
     ]
    },
    {
     "data": {
      "image/png": "[encoded data removed]",
      "text/plain": [
       "<Figure size 640x480 with 1 Axes>"
      ]
     },
     "metadata": {},
     "output_type": "display_data"
    }
   ],
   "source": [
    "min_len = 999\n",
    "max_len = 0\n",
    "sum_len = 0\n",
    "\n",
    "cleaned_corpus = list(set(raw))  # set를 사용해서 중복을 제거\n",
    "print(\"Data Size:\", len(cleaned_corpus))\n",
    "\n",
    "for sen in cleaned_corpus:\n",
    "    length = len(sen)\n",
    "    if min_len > length: min_len = length\n",
    "    if max_len < length: max_len = length\n",
    "    sum_len += length\n",
    "\n",
    "print(\"문장의 최단 길이:\", min_len)\n",
    "print(\"문장의 최장 길이:\", max_len)\n",
    "print(\"문장의 평균 길이:\", sum_len // len(cleaned_corpus))\n",
    "\n",
    "sentence_length = np.zeros((max_len), dtype=int)\n",
    "\n",
    "for sen in cleaned_corpus:   # 중복이 제거된 코퍼스 기준\n",
    "    sentence_length[len(sen)-1] += 1\n",
    "\n",
    "plt.bar(range(max_len), sentence_length, width=1.0)\n",
    "plt.title(\"Sentence Length Distribution\")\n",
    "plt.show()"
   ]
  },
  {
   "cell_type": "markdown",
   "id": "81ad1be4-7cf8-47a8-800c-16019bd0b468",
   "metadata": {},
   "source": [
    "미니 배치 특성상 각 데이터의 크기가 모두 동일해야 하기 때문에 가장 긴 데이터를 기준으로 padding처리  \n",
    "1. 길이 150 이상의 데이터를 제거\n",
    "2. 길이가 10 미만인 데이터도 제거"
   ]
  },
  {
   "cell_type": "code",
   "execution_count": 41,
   "id": "46687394-3efa-41c1-ad1c-bd00732c6f80",
   "metadata": {},
   "outputs": [
    {
     "data": {
      "image/png": "[encoded data removed]",
      "text/plain": [
       "<Figure size 640x480 with 1 Axes>"
      ]
     },
     "metadata": {},
     "output_type": "display_data"
    }
   ],
   "source": [
    "max_len = 150\n",
    "min_len = 10\n",
    "\n",
    "# 길이 조건에 맞는 문장만 선택\n",
    "filtered_corpus = [s for s in cleaned_corpus if (len(s) < max_len) & (len(s) >= min_len)]\n",
    "\n",
    "sentence_length = np.zeros((max_len), dtype=int)\n",
    "\n",
    "for sen in filtered_corpus:\n",
    "    sentence_length[len(sen)-1] += 1\n",
    "\n",
    "plt.bar(range(max_len), sentence_length, width=1.0)\n",
    "plt.title(\"Sentence Length Distribution\")\n",
    "plt.show()"
   ]
  },
  {
   "cell_type": "markdown",
   "id": "2cdcbc43-2d58-4b73-93b6-aae9116cf308",
   "metadata": {
    "jp-MarkdownHeadingCollapsed": true
   },
   "source": [
    "## 공백 기반 토큰화"
   ]
  },
  {
   "cell_type": "markdown",
   "id": "430ec42c-fd15-4149-a59d-045551d6c8e9",
   "metadata": {},
   "source": [
    "정제된 데이터 filtered_corpus를 공백 기반으로 토큰화하여 리스트 split_corpus에 저장한 후,  \n",
    "아래 tokenize() 함수를 사용해 단어 사전과 Tensor 데이터 얻기"
   ]
  },
  {
   "cell_type": "code",
   "execution_count": 42,
   "id": "efac7b1b-3046-4a5c-9ec9-0c93b69df3b7",
   "metadata": {},
   "outputs": [],
   "source": [
    "def tokenize(corpus):  # corpus: Tokenized Sentence's List\n",
    "    tokenizer = tf.keras.preprocessing.text.Tokenizer(filters='')\n",
    "    tokenizer.fit_on_texts(corpus)\n",
    "\n",
    "    tensor = tokenizer.texts_to_sequences(corpus)\n",
    "\n",
    "    tensor = tf.keras.preprocessing.sequence.pad_sequences(tensor, padding='post')\n",
    "\n",
    "    return tensor, tokenizer"
   ]
  },
  {
   "cell_type": "code",
   "execution_count": 43,
   "id": "1a039687-11d4-48d6-b453-afac1dffbc34",
   "metadata": {},
   "outputs": [],
   "source": [
    "# 정제된 데이터 filtered_corpus를 공백 기반으로 토큰화\n",
    "split_corpus = []\n",
    "\n",
    "for kor in filtered_corpus:\n",
    "    split_corpus.append(kor.split())"
   ]
  },
  {
   "cell_type": "code",
   "execution_count": 44,
   "id": "deb8c2c4-2db7-478d-9364-86545a863049",
   "metadata": {},
   "outputs": [
    {
     "name": "stdout",
     "output_type": "stream",
     "text": [
      "Split Vocab Size: 237435\n"
     ]
    }
   ],
   "source": [
    "split_tensor, split_tokenizer = tokenize(split_corpus)\n",
    "\n",
    "print(\"Split Vocab Size:\", len(split_tokenizer.index_word))"
   ]
  },
  {
   "cell_type": "code",
   "execution_count": 45,
   "id": "1fcc8424-ef6d-4263-b2cb-e7eafd035aa4",
   "metadata": {},
   "outputs": [
    {
     "name": "stdout",
     "output_type": "stream",
     "text": [
      "0 : 이\n",
      "1 : 밝혔다.\n",
      "2 : 있다.\n",
      "3 : 말했다.\n",
      "4 : 수\n",
      "5 : 있는\n",
      "6 : 그는\n",
      "7 : 대한\n",
      "8 : 위해\n",
      "9 : 전했다.\n",
      "10 : 지난\n",
      "11 : 이번\n"
     ]
    }
   ],
   "source": [
    "for idx, word in enumerate(split_tokenizer.word_index):\n",
    "    print(idx, \":\", word)\n",
    "\n",
    "    if idx > 10: break"
   ]
  },
  {
   "cell_type": "markdown",
   "id": "e92839fd-88cd-46a5-a535-f9f45d3e5cb5",
   "metadata": {},
   "source": [
    " 1번 단어인 밝혔다. 는 밝히다 , 밝다 등과 유사한 의미를 지니고 있음에도 전혀 다른 단어로 분류된다.  \n",
    " 이 때문에 공백 기반 토큰화는 불필요하게 큰 단어 사전을 가지게 되며 이는 연산량 증가로 이어진다.  \n",
    " => 이를 위해 형태소 분석기가 존재"
   ]
  },
  {
   "cell_type": "markdown",
   "id": "0e852702-9526-45b3-9ffe-cceed251cfba",
   "metadata": {
    "jp-MarkdownHeadingCollapsed": true
   },
   "source": [
    "## 형태소 기반 토큰화"
   ]
  },
  {
   "cell_type": "markdown",
   "id": "7ec0dc71-9b65-4755-a4a8-b53bf2ee577e",
   "metadata": {},
   "source": [
    "한국어 형태소 분석기는 대표적으로 Khaiii와 KoNLPy가 사용된다.  \n",
    "그중에서도 가장 성능이 준수한 MeCab클래스를 활용한다."
   ]
  },
  {
   "cell_type": "code",
   "execution_count": 59,
   "id": "472aba38-7311-4d9b-919d-a2b9ed4ef1a2",
   "metadata": {},
   "outputs": [],
   "source": [
    "# !pip install eunjeon"
   ]
  },
  {
   "cell_type": "code",
   "execution_count": 61,
   "id": "9d28537d-789e-472e-b982-a6feb73b9a38",
   "metadata": {},
   "outputs": [],
   "source": [
    "# import sys\n",
    "# print(sys.executable)"
   ]
  },
  {
   "cell_type": "code",
   "execution_count": 64,
   "id": "b64dc581-186f-4bbd-a30f-37275941d8d1",
   "metadata": {},
   "outputs": [],
   "source": [
    "# import sys\n",
    "# !{sys.executable} -m pip install eunjeon"
   ]
  },
  {
   "cell_type": "code",
   "execution_count": 57,
   "id": "933cacfb-31cc-4d5b-8aab-f345ac062a48",
   "metadata": {},
   "outputs": [],
   "source": [
    "from eunjeon import Mecab\n",
    "\n",
    "mecab = Mecab()\n",
    "\n",
    "def mecab_split(sentence):\n",
    "    return mecab.morphs(sentence)\n",
    "\n",
    "mecab_corpus = []\n",
    "\n",
    "for kor in filtered_corpus:\n",
    "    mecab_corpus.append(mecab_split(kor))"
   ]
  },
  {
   "cell_type": "code",
   "execution_count": 58,
   "id": "20cd2928-c303-40f5-ad6c-819a6192cc2e",
   "metadata": {},
   "outputs": [
    {
     "name": "stdout",
     "output_type": "stream",
     "text": [
      "MeCab Vocab Size: 51929\n"
     ]
    }
   ],
   "source": [
    "mecab_tensor, mecab_tokenizer = tokenize(mecab_corpus)\n",
    "\n",
    "print(\"MeCab Vocab Size:\", len(mecab_tokenizer.index_word))"
   ]
  },
  {
   "cell_type": "markdown",
   "id": "3f3e7ca2-3d0c-4299-83ba-8caa7ac13ba1",
   "metadata": {},
   "source": [
    "### Decoding\n",
    "- tokenizer.sequences_to_texts() 함수를 사용하여 Decoding\n",
    "- tokenizer.index_word 를 사용하여 Decoding"
   ]
  },
  {
   "cell_type": "code",
   "execution_count": 65,
   "id": "522d1dbe-dedc-4b55-a336-b354e9e6333c",
   "metadata": {},
   "outputs": [
    {
     "data": {
      "text/plain": [
       "array([   30,     4,   191,   714,  2948,    16,  7495,    18,   586,\n",
       "           6,  2286,     5,   321,    10,    36,   157,   836,    39,\n",
       "       14354,     2,     1,     0,     0,     0,     0,     0,     0,\n",
       "           0,     0,     0,     0,     0,     0,     0,     0,     0,\n",
       "           0,     0,     0,     0,     0,     0,     0,     0,     0,\n",
       "           0,     0,     0,     0,     0,     0,     0,     0,     0,\n",
       "           0,     0,     0,     0,     0,     0,     0,     0,     0,\n",
       "           0,     0,     0,     0,     0,     0,     0,     0,     0,\n",
       "           0,     0,     0,     0,     0,     0,     0,     0,     0,\n",
       "           0,     0,     0,     0])"
      ]
     },
     "execution_count": 65,
     "metadata": {},
     "output_type": "execute_result"
    }
   ],
   "source": [
    "mecab_tensor[100]"
   ]
  },
  {
   "cell_type": "code",
   "execution_count": 69,
   "id": "a4d9a9f5-bdde-40ca-9888-9f85ddc523c1",
   "metadata": {},
   "outputs": [
    {
     "name": "stdout",
     "output_type": "stream",
     "text": [
      "그 는 또한 아프가니스탄 중심부 에서 영원 한 자유 의 획득 을 지지 하 기 위한 비행 도 가졌었 다 .\n"
     ]
    }
   ],
   "source": [
    "texts = mecab_tokenizer.sequences_to_texts([mecab_tensor[100]])\n",
    "print(texts[0])"
   ]
  },
  {
   "cell_type": "code",
   "execution_count": 72,
   "id": "ec26d9a0-063f-48c1-8c3a-1341fa3f85dd",
   "metadata": {},
   "outputs": [
    {
     "name": "stdout",
     "output_type": "stream",
     "text": [
      "그 는 또한 아프가니스탄 중심부 에서 영원 한 자유 의 획득 을 지지 하 기 위한 비행 도 가졌었 다 . \n"
     ]
    }
   ],
   "source": [
    "texts= \"\"\n",
    "\n",
    "for w in mecab_tensor[100]:\n",
    "    if w==0: continue\n",
    "    texts += mecab_tokenizer.index_word[w] + \" \"\n",
    "\n",
    "\n",
    "print(texts)"
   ]
  }
 ],
 "metadata": {
  "kernelspec": {
   "display_name": "Python 3 (ipykernel)",
   "language": "python",
   "name": "python3"
  },
  "language_info": {
   "codemirror_mode": {
    "name": "ipython",
    "version": 3
   },
   "file_extension": ".py",
   "mimetype": "text/x-python",
   "name": "python",
   "nbconvert_exporter": "python",
   "pygments_lexer": "ipython3",
   "version": "3.12.7"
  }
 },
 "nbformat": 4,
 "nbformat_minor": 5
}
